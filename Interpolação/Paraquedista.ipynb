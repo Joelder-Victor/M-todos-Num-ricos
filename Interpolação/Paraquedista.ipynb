{
 "cells": [
  {
   "cell_type": "markdown",
   "metadata": {
    "slideshow": {
     "slide_type": "slide"
    }
   },
   "source": [
    "### Paraquedista em queda livre"
   ]
  },
  {
   "cell_type": "markdown",
   "metadata": {
    "slideshow": {
     "slide_type": "fragment"
    }
   },
   "source": [
    "Nosso problema é fazer uma estimativa da velocidade do paraquedista em t = 10 s para preencher o grande salto nas medidas entre t = 7 e t = 13 s. Estamos cientes de que o com- portamento dos polinômios interpoladores pode ser inesperado."
   ]
  },
  {
   "cell_type": "markdown",
   "metadata": {
    "slideshow": {
     "slide_type": "subslide"
    }
   },
   "source": [
    "|**Tempo,s**|**Velocidade medida v, cm/s**|\n",
    "|--|--|\n",
    "|1|800|\n",
    "|3|2310|\n",
    "|5|3090|\n",
    "|7|3940|\n",
    "|13|4755|\n"
   ]
  },
  {
   "cell_type": "code",
   "execution_count": 1,
   "metadata": {
    "slideshow": {
     "slide_type": "slide"
    }
   },
   "outputs": [],
   "source": [
    "import numpy as np\n",
    "import sympy as sy\n",
    "from sympy.abc import x\n",
    "import matplotlib.pyplot as plt\n",
    "sy.init_printing(pretty_print=True)"
   ]
  },
  {
   "cell_type": "code",
   "execution_count": 2,
   "metadata": {
    "slideshow": {
     "slide_type": "fragment"
    }
   },
   "outputs": [],
   "source": [
    "def coef(x,fx):\n",
    "    n=np.shape(x)[0]\n",
    "    M = np.zeros((n,n))\n",
    "    M[:,0]=fx\n",
    "    for j in range(1,n):\n",
    "        for i in range(j,n):\n",
    "            M[i,j]=(M[i,j-1]-M[i-1,j-1])/(x[i]-x[i-j])\n",
    "    return np.diag(M)"
   ]
  },
  {
   "cell_type": "code",
   "execution_count": 3,
   "metadata": {
    "slideshow": {
     "slide_type": "subslide"
    }
   },
   "outputs": [],
   "source": [
    "def symbols(n,var):                  \n",
    "    V = []\n",
    "    for i in range(0,n):\n",
    "        v = var + str(i)\n",
    "        V.append(sy.Symbol(v))\n",
    "    return V"
   ]
  },
  {
   "cell_type": "code",
   "execution_count": 4,
   "metadata": {
    "slideshow": {
     "slide_type": "fragment"
    }
   },
   "outputs": [],
   "source": [
    "def polyn(d,x_s):\n",
    "    \n",
    "    px=d[0]\n",
    "    n=len(d)\n",
    "    aux=1\n",
    "    for i in range(1,n):\n",
    "        aux*=(x-x_s[i-1])\n",
    "        px+=d[i]*aux\n",
    "    return px"
   ]
  },
  {
   "cell_type": "code",
   "execution_count": 5,
   "metadata": {
    "slideshow": {
     "slide_type": "subslide"
    }
   },
   "outputs": [
    {
     "data": {
      "text/plain": [
       "array([800.        , 755.        , -91.25      ,  16.66666667,\n",
       "        -1.76302083])"
      ]
     },
     "execution_count": 5,
     "metadata": {},
     "output_type": "execute_result"
    }
   ],
   "source": [
    "x_n = np.array([1,3,5,7,13], dtype=\"double\")  \n",
    "y = np.array([800,2310,3090,3940,4755], dtype=\"double\")\n",
    "c=coef(x_n,y);c"
   ]
  },
  {
   "cell_type": "code",
   "execution_count": 6,
   "metadata": {
    "slideshow": {
     "slide_type": "fragment"
    }
   },
   "outputs": [
    {
     "data": {
      "image/png": "[encoded data removed]",
      "text/latex": [
       "$\\displaystyle \\left[ a_{0}, \\  a_{1}, \\  a_{2}, \\  a_{3}, \\  a_{4}\\right]$"
      ],
      "text/plain": [
       "[a₀, a₁, a₂, a₃, a₄]"
      ]
     },
     "execution_count": 6,
     "metadata": {},
     "output_type": "execute_result"
    }
   ],
   "source": [
    "n=np.shape(c)[0]\n",
    "d=symbols(n,'a');d"
   ]
  },
  {
   "cell_type": "code",
   "execution_count": 7,
   "metadata": {
    "slideshow": {
     "slide_type": "fragment"
    }
   },
   "outputs": [
    {
     "data": {
      "image/png": "[encoded data removed]",
      "text/latex": [
       "$\\displaystyle \\left[ x_{0}, \\  x_{1}, \\  x_{2}, \\  x_{3}\\right]$"
      ],
      "text/plain": [
       "[x₀, x₁, x₂, x₃]"
      ]
     },
     "execution_count": 7,
     "metadata": {},
     "output_type": "execute_result"
    }
   ],
   "source": [
    "x_v=symbols(n-1,'x');x_v"
   ]
  },
  {
   "cell_type": "code",
   "execution_count": 8,
   "metadata": {
    "slideshow": {
     "slide_type": "fragment"
    }
   },
   "outputs": [
    {
     "data": {
      "image/png": "[encoded data removed]",
      "text/latex": [
       "$\\displaystyle a_{0} + a_{1} \\left(x - x_{0}\\right) + a_{2} \\left(x - x_{0}\\right) \\left(x - x_{1}\\right) + a_{3} \\left(x - x_{0}\\right) \\left(x - x_{1}\\right) \\left(x - x_{2}\\right) + a_{4} \\left(x - x_{0}\\right) \\left(x - x_{1}\\right) \\left(x - x_{2}\\right) \\left(x - x_{3}\\right)$"
      ],
      "text/plain": [
       "a₀ + a₁⋅(x - x₀) + a₂⋅(x - x₀)⋅(x - x₁) + a₃⋅(x - x₀)⋅(x - x₁)⋅(x - x₂) + a₄⋅(\n",
       "x - x₀)⋅(x - x₁)⋅(x - x₂)⋅(x - x₃)"
      ]
     },
     "execution_count": 8,
     "metadata": {},
     "output_type": "execute_result"
    }
   ],
   "source": [
    "px=polyn(d,x_v);px"
   ]
  },
  {
   "cell_type": "code",
   "execution_count": 9,
   "metadata": {
    "slideshow": {
     "slide_type": "subslide"
    }
   },
   "outputs": [
    {
     "data": {
      "image/png": "[encoded data removed]",
      "text/latex": [
       "$\\displaystyle \\left[ \\left( a_{0}, \\  800.0\\right), \\  \\left( a_{1}, \\  755.0\\right), \\  \\left( a_{2}, \\  -91.25\\right), \\  \\left( a_{3}, \\  16.666666666666668\\right), \\  \\left( a_{4}, \\  -1.7630208333333333\\right), \\  \\left( x_{0}, \\  1.0\\right), \\  \\left( x_{1}, \\  3.0\\right), \\  \\left( x_{2}, \\  5.0\\right), \\  \\left( x_{3}, \\  7.0\\right)\\right]$"
      ],
      "text/plain": [
       "[(a₀, 800.0), (a₁, 755.0), (a₂, -91.25), (a₃, 16.666666666666668), (a₄, -1.763\n",
       "0208333333333), (x₀, 1.0), (x₁, 3.0), (x₂, 5.0), (x₃, 7.0)]"
      ]
     },
     "execution_count": 9,
     "metadata": {},
     "output_type": "execute_result"
    }
   ],
   "source": [
    "s=[]\n",
    "n=len(d)\n",
    "for i in range(n):\n",
    "    for j in range(n):\n",
    "        if(i==j):\n",
    "            s.append((d[i],c[j]))\n",
    "n=len(x_v)\n",
    "for i in range(n):\n",
    "    for j in range(n):\n",
    "        if(i==j):\n",
    "            s.append((x_v[i],x_n[j]))\n",
    "s"
   ]
  },
  {
   "cell_type": "code",
   "execution_count": 10,
   "metadata": {
    "slideshow": {
     "slide_type": "fragment"
    }
   },
   "outputs": [
    {
     "data": {
      "image/png": "[encoded data removed]",
      "text/latex": [
       "$\\displaystyle 755.0 x - 1.76302083333333 \\left(x - 7.0\\right) \\left(x - 5.0\\right) \\left(x - 3.0\\right) \\left(x - 1.0\\right) + 16.6666666666667 \\left(x - 5.0\\right) \\left(x - 3.0\\right) \\left(x - 1.0\\right) - 91.25 \\left(x - 3.0\\right) \\left(x - 1.0\\right) + 45.0$"
      ],
      "text/plain": [
       "755.0⋅x - 1.76302083333333⋅(x - 7.0)⋅(x - 5.0)⋅(x - 3.0)⋅(x - 1.0) + 16.666666\n",
       "6666667⋅(x - 5.0)⋅(x - 3.0)⋅(x - 1.0) - 91.25⋅(x - 3.0)⋅(x - 1.0) + 45.0"
      ]
     },
     "execution_count": 10,
     "metadata": {},
     "output_type": "execute_result"
    }
   ],
   "source": [
    "px=px.subs(s)\n",
    "px"
   ]
  },
  {
   "cell_type": "code",
   "execution_count": 11,
   "metadata": {
    "slideshow": {
     "slide_type": "fragment"
    }
   },
   "outputs": [
    {
     "data": {
      "image/png": "[encoded data removed]",
      "text/latex": [
       "$\\displaystyle 5430.1953125$"
      ],
      "text/plain": [
       "5430.19531250000"
      ]
     },
     "execution_count": 11,
     "metadata": {},
     "output_type": "execute_result"
    }
   ],
   "source": [
    "pn=px.subs(x,10);pn"
   ]
  },
  {
   "cell_type": "code",
   "execution_count": 12,
   "metadata": {
    "slideshow": {
     "slide_type": "fragment"
    }
   },
   "outputs": [
    {
     "data": {
      "image/png": "[encoded data removed]",
      "text/latex": [
       "$\\displaystyle \\operatorname{Poly}{\\left( -1.76302083333333 x^{4} + 44.875 x^{3} - 392.869791666667 x^{2} + 1813.625 x - 663.8671875, x, domain=\\mathbb{R} \\right)}$"
      ],
      "text/plain": [
       "Poly(-1.76302083333333*x**4 + 44.875*x**3 - 392.869791666667*x**2 + 1813.625*x\n",
       " - 663.8671875, x, domain='RR')"
      ]
     },
     "execution_count": 12,
     "metadata": {},
     "output_type": "execute_result"
    }
   ],
   "source": [
    "p=sy.Poly(px);p"
   ]
  },
  {
   "cell_type": "code",
   "execution_count": 13,
   "metadata": {
    "slideshow": {
     "slide_type": "subslide"
    }
   },
   "outputs": [],
   "source": [
    "x_n = np.array([1,3,5,7,13], dtype=\"double\")  \n",
    "y = np.array([800,2310,3090,3940,4755], dtype=\"double\")\n",
    "x=sy.Symbol('x')"
   ]
  },
  {
   "cell_type": "code",
   "execution_count": 14,
   "metadata": {
    "slideshow": {
     "slide_type": "fragment"
    }
   },
   "outputs": [
    {
     "data": {
      "image/png": "[encoded data removed]",
      "text/latex": [
       "$\\displaystyle \\left[ x_{0}, \\  x_{1}, \\  x_{2}, \\  x_{3}, \\  x_{4}\\right]$"
      ],
      "text/plain": [
       "[x₀, x₁, x₂, x₃, x₄]"
      ]
     },
     "execution_count": 14,
     "metadata": {},
     "output_type": "execute_result"
    }
   ],
   "source": [
    "n=np.shape(x_n)[0]\n",
    "x_v=symbols(n,'x');x_v"
   ]
  },
  {
   "cell_type": "code",
   "execution_count": 15,
   "metadata": {
    "slideshow": {
     "slide_type": "fragment"
    }
   },
   "outputs": [
    {
     "data": {
      "image/png": "[encoded data removed]",
      "text/latex": [
       "$\\displaystyle \\left[ \\left(1.08333333333333 - 0.0833333333333333 x\\right) \\left(1.16666666666667 - 0.166666666666667 x\\right) \\left(1.25 - 0.25 x\\right) \\left(1.5 - 0.5 x\\right), \\  \\left(1.3 - 0.1 x\\right) \\left(1.75 - 0.25 x\\right) \\left(2.5 - 0.5 x\\right) \\left(0.5 x - 0.5\\right), \\  \\left(1.625 - 0.125 x\\right) \\left(3.5 - 0.5 x\\right) \\left(0.25 x - 0.25\\right) \\left(0.5 x - 1.5\\right), \\  \\left(2.16666666666667 - 0.166666666666667 x\\right) \\left(0.166666666666667 x - 0.166666666666667\\right) \\left(0.25 x - 0.75\\right) \\left(0.5 x - 2.5\\right), \\  \\left(0.0833333333333333 x - 0.0833333333333333\\right) \\left(0.1 x - 0.3\\right) \\left(0.125 x - 0.625\\right) \\left(0.166666666666667 x - 1.16666666666667\\right)\\right]$"
      ],
      "text/plain": [
       "[(1.08333333333333 - 0.0833333333333333⋅x)⋅(1.16666666666667 - 0.1666666666666\n",
       "67⋅x)⋅(1.25 - 0.25⋅x)⋅(1.5 - 0.5⋅x), (1.3 - 0.1⋅x)⋅(1.75 - 0.25⋅x)⋅(2.5 - 0.5⋅\n",
       "x)⋅(0.5⋅x - 0.5), (1.625 - 0.125⋅x)⋅(3.5 - 0.5⋅x)⋅(0.25⋅x - 0.25)⋅(0.5⋅x - 1.5\n",
       "), (2.16666666666667 - 0.166666666666667⋅x)⋅(0.166666666666667⋅x - 0.166666666\n",
       "666667)⋅(0.25⋅x - 0.75)⋅(0.5⋅x - 2.5), (0.0833333333333333⋅x - 0.0833333333333\n",
       "333)⋅(0.1⋅x - 0.3)⋅(0.125⋅x - 0.625)⋅(0.166666666666667⋅x - 1.16666666666667)]"
      ]
     },
     "execution_count": 15,
     "metadata": {},
     "output_type": "execute_result"
    }
   ],
   "source": [
    "L=[1 for i in range(5)]\n",
    "for j in range(5):\n",
    "    for i in range(5):\n",
    "        if i == j:\n",
    "            continue\n",
    "        L[j]*=((x-x_n[i])/(x_n[j]-x_n[i]))\n",
    "L"
   ]
  },
  {
   "cell_type": "code",
   "execution_count": 16,
   "metadata": {
    "slideshow": {
     "slide_type": "subslide"
    }
   },
   "outputs": [
    {
     "data": {
      "image/png": "[encoded data removed]",
      "text/latex": [
       "$\\displaystyle 800.0 \\left(1.08333333333333 - 0.0833333333333333 x\\right) \\left(1.16666666666667 - 0.166666666666667 x\\right) \\left(1.25 - 0.25 x\\right) \\left(1.5 - 0.5 x\\right) + 2310.0 \\left(1.3 - 0.1 x\\right) \\left(1.75 - 0.25 x\\right) \\left(2.5 - 0.5 x\\right) \\left(0.5 x - 0.5\\right) + 3090.0 \\left(1.625 - 0.125 x\\right) \\left(3.5 - 0.5 x\\right) \\left(0.25 x - 0.25\\right) \\left(0.5 x - 1.5\\right) + 3940.0 \\left(2.16666666666667 - 0.166666666666667 x\\right) \\left(0.166666666666667 x - 0.166666666666667\\right) \\left(0.25 x - 0.75\\right) \\left(0.5 x - 2.5\\right)$"
      ],
      "text/plain": [
       "800.0⋅(1.08333333333333 - 0.0833333333333333⋅x)⋅(1.16666666666667 - 0.16666666\n",
       "6666667⋅x)⋅(1.25 - 0.25⋅x)⋅(1.5 - 0.5⋅x) + 2310.0⋅(1.3 - 0.1⋅x)⋅(1.75 - 0.25⋅x\n",
       ")⋅(2.5 - 0.5⋅x)⋅(0.5⋅x - 0.5) + 3090.0⋅(1.625 - 0.125⋅x)⋅(3.5 - 0.5⋅x)⋅(0.25⋅x\n",
       " - 0.25)⋅(0.5⋅x - 1.5) + 3940.0⋅(2.16666666666667 - 0.166666666666667⋅x)⋅(0.16\n",
       "6666666666667⋅x - 0.166666666666667)⋅(0.25⋅x - 0.75)⋅(0.5⋅x - 2.5)"
      ]
     },
     "execution_count": 16,
     "metadata": {},
     "output_type": "execute_result"
    }
   ],
   "source": [
    "px=L[0]*y[0]\n",
    "for i in range(1,4):\n",
    "    px+=L[i]*y[i]\n",
    "px"
   ]
  },
  {
   "cell_type": "code",
   "execution_count": 17,
   "metadata": {
    "slideshow": {
     "slide_type": "fragment"
    }
   },
   "outputs": [
    {
     "data": {
      "image/png": "[encoded data removed]",
      "text/latex": [
       "$\\displaystyle \\operatorname{Poly}{\\left( -2.58854166666666 x^{4} + 58.0833333333333 x^{3} - 463.864583333333 x^{2} + 1958.91666666667 x - 750.546875, x, domain=\\mathbb{R} \\right)}$"
      ],
      "text/plain": [
       "Poly(-2.58854166666666*x**4 + 58.0833333333333*x**3 - 463.864583333333*x**2 + \n",
       "1958.91666666667*x - 750.546875, x, domain='RR')"
      ]
     },
     "execution_count": 17,
     "metadata": {},
     "output_type": "execute_result"
    }
   ],
   "source": [
    "p=sy.Poly(px);p"
   ]
  },
  {
   "cell_type": "code",
   "execution_count": 18,
   "metadata": {
    "slideshow": {
     "slide_type": "fragment"
    }
   },
   "outputs": [
    {
     "data": {
      "image/png": "[encoded data removed]",
      "text/latex": [
       "$\\displaystyle 4650.078125$"
      ],
      "text/plain": [
       "4650.07812500000"
      ]
     },
     "execution_count": 18,
     "metadata": {},
     "output_type": "execute_result"
    }
   ],
   "source": [
    "px.subs(x,10)"
   ]
  }
 ],
 "metadata": {
  "celltoolbar": "Slideshow",
  "kernelspec": {
   "display_name": "Python 3",
   "language": "python",
   "name": "python3"
  },
  "language_info": {
   "codemirror_mode": {
    "name": "ipython",
    "version": 3
   },
   "file_extension": ".py",
   "mimetype": "text/x-python",
   "name": "python",
   "nbconvert_exporter": "python",
   "pygments_lexer": "ipython3",
   "version": "3.7.6"
  },
  "latex_metadata": {
   "author": "Joelder Victor"
  },
  "rise": {
   "enable_chalkboard": true,
   "header": "Joelder Antonino",
   "theme": "sky"
  }
 },
 "nbformat": 4,
 "nbformat_minor": 4
}
