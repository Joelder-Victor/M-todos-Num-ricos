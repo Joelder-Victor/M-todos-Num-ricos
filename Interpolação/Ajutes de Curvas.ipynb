{
 "cells": [
  {
   "cell_type": "markdown",
   "metadata": {
    "slideshow": {
     "slide_type": "slide"
    }
   },
   "source": [
    "## Interpolação"
   ]
  },
  {
   "cell_type": "markdown",
   "metadata": {
    "slideshow": {
     "slide_type": "slide"
    }
   },
   "source": [
    "### Método das diferenças divididas de Newton"
   ]
  },
  {
   "cell_type": "markdown",
   "metadata": {
    "slideshow": {
     "slide_type": "fragment"
    }
   },
   "source": [
    "$$ p(x) = a_{1} + a_{2}(x-x_{1})+a_{3}(x-x_{1})(x-x_{2})+...+a_{n}(x-x1)(x-x_2)...(x-x_{n-1}) $$"
   ]
  },
  {
   "cell_type": "markdown",
   "metadata": {
    "slideshow": {
     "slide_type": "slide"
    }
   },
   "source": [
    "**Problema:** Faça uma estimativa de $ln\\space2$ com um polinômio interpolador de Newton de terceiro grau."
   ]
  },
  {
   "cell_type": "markdown",
   "metadata": {
    "slideshow": {
     "slide_type": "fragment"
    }
   },
   "source": [
    "|x|f(x)|\n",
    "|--|--|\n",
    "|1|0|\n",
    "|4|1,386294|\n",
    "|5|1,609438|\n",
    "|6|1,791759|"
   ]
  },
  {
   "cell_type": "code",
   "execution_count": 2,
   "metadata": {
    "slideshow": {
     "slide_type": "slide"
    }
   },
   "outputs": [],
   "source": [
    "import numpy as np\n",
    "import sympy as sy\n",
    "from sympy.abc import x\n",
    "import matplotlib.pyplot as plt\n",
    "sy.init_printing(pretty_print=True)"
   ]
  },
  {
   "cell_type": "code",
   "execution_count": 3,
   "metadata": {
    "slideshow": {
     "slide_type": "fragment"
    }
   },
   "outputs": [],
   "source": [
    "x_n = np.array([1,4,5,6], dtype=\"double\")  \n",
    "y = np.array([0,1.386294,1.609438,1.791759], dtype=\"double\")"
   ]
  },
  {
   "cell_type": "code",
   "execution_count": 4,
   "metadata": {
    "slideshow": {
     "slide_type": "subslide"
    }
   },
   "outputs": [],
   "source": [
    "def coef(x,fx):\n",
    "    n=np.shape(x)[0]\n",
    "    M = np.zeros((n,n))\n",
    "    M[:,0]=fx\n",
    "    for j in range(1,n):\n",
    "        for i in range(j,n):\n",
    "            M[i,j]=(M[i,j-1]-M[i-1,j-1])/(x[i]-x[i-j])\n",
    "    return np.diag(M)"
   ]
  },
  {
   "cell_type": "code",
   "execution_count": 5,
   "metadata": {
    "slideshow": {
     "slide_type": "fragment"
    }
   },
   "outputs": [
    {
     "data": {
      "text/plain": [
       "array([ 0.       ,  0.462098 , -0.0597385,  0.0078654])"
      ]
     },
     "execution_count": 5,
     "metadata": {},
     "output_type": "execute_result"
    }
   ],
   "source": [
    "c=coef(x_n,y);c"
   ]
  },
  {
   "cell_type": "code",
   "execution_count": 6,
   "metadata": {
    "slideshow": {
     "slide_type": "subslide"
    }
   },
   "outputs": [],
   "source": [
    "def symbols(n,var):                  \n",
    "    V = []\n",
    "    for i in range(0,n):\n",
    "        v = var + str(i)\n",
    "        V.append(sy.Symbol(v))\n",
    "    return V"
   ]
  },
  {
   "cell_type": "code",
   "execution_count": 8,
   "metadata": {
    "slideshow": {
     "slide_type": "fragment"
    }
   },
   "outputs": [
    {
     "data": {
      "image/png": "[encoded data removed]",
      "text/latex": [
       "$\\displaystyle \\left[ a_{0}, \\  a_{1}, \\  a_{2}, \\  a_{3}\\right]$"
      ],
      "text/plain": [
       "[a₀, a₁, a₂, a₃]"
      ]
     },
     "execution_count": 8,
     "metadata": {},
     "output_type": "execute_result"
    }
   ],
   "source": [
    "n=np.shape(c)[0]\n",
    "d=symbols(n,'a');d"
   ]
  },
  {
   "cell_type": "code",
   "execution_count": 9,
   "metadata": {
    "slideshow": {
     "slide_type": "fragment"
    }
   },
   "outputs": [
    {
     "data": {
      "image/png": "[encoded data removed]",
      "text/latex": [
       "$\\displaystyle \\left[ x_{0}, \\  x_{1}, \\  x_{2}\\right]$"
      ],
      "text/plain": [
       "[x₀, x₁, x₂]"
      ]
     },
     "execution_count": 9,
     "metadata": {},
     "output_type": "execute_result"
    }
   ],
   "source": [
    "x_v=symbols(n-1,'x');x_v"
   ]
  },
  {
   "cell_type": "code",
   "execution_count": 10,
   "metadata": {
    "slideshow": {
     "slide_type": "subslide"
    }
   },
   "outputs": [],
   "source": [
    "def polyn(d,x_s):\n",
    "    px=d[0]\n",
    "    n=len(d)\n",
    "    aux=1\n",
    "    for i in range(1,n):\n",
    "        aux*=(x-x_s[i-1])\n",
    "        px+=d[i]*aux\n",
    "    return px"
   ]
  },
  {
   "cell_type": "code",
   "execution_count": 11,
   "metadata": {
    "slideshow": {
     "slide_type": "fragment"
    }
   },
   "outputs": [
    {
     "data": {
      "image/png": "[encoded data removed]",
      "text/latex": [
       "$\\displaystyle a_{0} + a_{1} \\left(x - x_{0}\\right) + a_{2} \\left(x - x_{0}\\right) \\left(x - x_{1}\\right) + a_{3} \\left(x - x_{0}\\right) \\left(x - x_{1}\\right) \\left(x - x_{2}\\right)$"
      ],
      "text/plain": [
       "a₀ + a₁⋅(x - x₀) + a₂⋅(x - x₀)⋅(x - x₁) + a₃⋅(x - x₀)⋅(x - x₁)⋅(x - x₂)"
      ]
     },
     "execution_count": 11,
     "metadata": {},
     "output_type": "execute_result"
    }
   ],
   "source": [
    "px=polyn(d,x_v);px"
   ]
  },
  {
   "cell_type": "code",
   "execution_count": 12,
   "metadata": {
    "slideshow": {
     "slide_type": "slide"
    }
   },
   "outputs": [
    {
     "data": {
      "image/png": "[encoded data removed]",
      "text/latex": [
       "$\\displaystyle \\left[ \\left( a_{0}, \\  0.0\\right), \\  \\left( a_{1}, \\  0.46209799999999995\\right), \\  \\left( a_{2}, \\  -0.059738499999999986\\right), \\  \\left( a_{3}, \\  0.007865400000000014\\right), \\  \\left( x_{0}, \\  1.0\\right), \\  \\left( x_{1}, \\  4.0\\right), \\  \\left( x_{2}, \\  5.0\\right)\\right]$"
      ],
      "text/plain": [
       "[(a₀, 0.0), (a₁, 0.46209799999999995), (a₂, -0.059738499999999986), (a₃, 0.007\n",
       "865400000000014), (x₀, 1.0), (x₁, 4.0), (x₂, 5.0)]"
      ]
     },
     "execution_count": 12,
     "metadata": {},
     "output_type": "execute_result"
    }
   ],
   "source": [
    "s=[]\n",
    "n=len(d)\n",
    "for i in range(n):\n",
    "    for j in range(n):\n",
    "        if(i==j):\n",
    "            s.append((d[i],c[j]))\n",
    "n=len(x_v)\n",
    "for i in range(n):\n",
    "    for j in range(n):\n",
    "        if(i==j):\n",
    "            s.append((x_v[i],x_n[j]))\n",
    "s"
   ]
  },
  {
   "cell_type": "code",
   "execution_count": 13,
   "metadata": {
    "slideshow": {
     "slide_type": "fragment"
    }
   },
   "outputs": [
    {
     "data": {
      "image/png": "[encoded data removed]",
      "text/latex": [
       "$\\displaystyle 0.462098 x + 0.00786540000000001 \\left(x - 5.0\\right) \\left(x - 4.0\\right) \\left(x - 1.0\\right) - 0.0597385 \\left(x - 4.0\\right) \\left(x - 1.0\\right) - 0.462098$"
      ],
      "text/plain": [
       "0.462098⋅x + 0.00786540000000001⋅(x - 5.0)⋅(x - 4.0)⋅(x - 1.0) - 0.0597385⋅(x \n",
       "- 4.0)⋅(x - 1.0) - 0.462098"
      ]
     },
     "execution_count": 13,
     "metadata": {},
     "output_type": "execute_result"
    }
   ],
   "source": [
    "px=px.subs(s)\n",
    "px"
   ]
  },
  {
   "cell_type": "code",
   "execution_count": 14,
   "metadata": {
    "slideshow": {
     "slide_type": "subslide"
    }
   },
   "outputs": [
    {
     "data": {
      "image/png": "[encoded data removed]",
      "text/latex": [
       "$\\displaystyle \\operatorname{Poly}{\\left( 0.00786540000000001 x^{3} - 0.1383925 x^{2} + 0.9888871 x - 0.85836, x, domain=\\mathbb{R} \\right)}$"
      ],
      "text/plain": [
       "Poly(0.00786540000000001*x**3 - 0.1383925*x**2 + 0.9888871*x - 0.85836, x, dom\n",
       "ain='RR')"
      ]
     },
     "execution_count": 14,
     "metadata": {},
     "output_type": "execute_result"
    }
   ],
   "source": [
    "p=sy.Poly(px);p"
   ]
  },
  {
   "cell_type": "code",
   "execution_count": 15,
   "metadata": {
    "slideshow": {
     "slide_type": "fragment"
    }
   },
   "outputs": [
    {
     "data": {
      "image/png": "[encoded data removed]",
      "text/latex": [
       "$\\displaystyle 0.6287674$"
      ],
      "text/plain": [
       "0.628767400000000"
      ]
     },
     "execution_count": 15,
     "metadata": {},
     "output_type": "execute_result"
    }
   ],
   "source": [
    "pn=p.subs(x,2);pn"
   ]
  },
  {
   "cell_type": "code",
   "execution_count": 16,
   "metadata": {
    "slideshow": {
     "slide_type": "fragment"
    }
   },
   "outputs": [],
   "source": [
    "f=sy.lambdify(x,px,'numpy')"
   ]
  },
  {
   "cell_type": "code",
   "execution_count": 17,
   "metadata": {
    "slideshow": {
     "slide_type": "subslide"
    }
   },
   "outputs": [
    {
     "data": {
      "image/png": "[encoded data removed]",
      "text/plain": [
       "<Figure size 792x432 with 1 Axes>"
      ]
     },
     "metadata": {
      "needs_background": "light"
     },
     "output_type": "display_data"
    }
   ],
   "source": [
    "x=np.linspace(1,10)\n",
    "fig=plt.figure(figsize=(11,6))\n",
    "plt.grid()\n",
    "plt.plot(x,np.log(x))\n",
    "plt.plot(x,f(x))\n",
    "_=plt.legend(['$ln(x)$','$f(x)$'],loc='best')"
   ]
  },
  {
   "cell_type": "markdown",
   "metadata": {
    "slideshow": {
     "slide_type": "slide"
    }
   },
   "source": [
    "## Interpolador de Lagrange"
   ]
  },
  {
   "cell_type": "markdown",
   "metadata": {},
   "source": [
    "$$ L_{k}(x)= \\prod_{j=1,\\space j{\\neq}i}^{n}\\dfrac{x-x_{j}}{x_{k}-x_{j}} $$"
   ]
  },
  {
   "cell_type": "code",
   "execution_count": 18,
   "metadata": {
    "slideshow": {
     "slide_type": "subslide"
    }
   },
   "outputs": [],
   "source": [
    "x_n = np.array([1,4,5,6], dtype=\"double\")  \n",
    "y = np.array([0,1.386294,1.609438,1.791759], dtype=\"double\")\n",
    "x=sy.Symbol('x')"
   ]
  },
  {
   "cell_type": "code",
   "execution_count": 19,
   "metadata": {
    "slideshow": {
     "slide_type": "fragment"
    }
   },
   "outputs": [
    {
     "data": {
      "image/png": "[encoded data removed]",
      "text/latex": [
       "$\\displaystyle \\left[ x_{0}, \\  x_{1}, \\  x_{2}, \\  x_{3}\\right]$"
      ],
      "text/plain": [
       "[x₀, x₁, x₂, x₃]"
      ]
     },
     "execution_count": 19,
     "metadata": {},
     "output_type": "execute_result"
    }
   ],
   "source": [
    "x_v=symbols(4,'x');x_v"
   ]
  },
  {
   "cell_type": "code",
   "execution_count": 21,
   "metadata": {
    "slideshow": {
     "slide_type": "fragment"
    }
   },
   "outputs": [
    {
     "data": {
      "image/png": "[encoded data removed]",
      "text/latex": [
       "$\\displaystyle \\left[ \\left(1.2 - 0.2 x\\right) \\left(1.25 - 0.25 x\\right) \\left(1.33333333333333 - 0.333333333333333 x\\right), \\  \\left(3.0 - 0.5 x\\right) \\left(5.0 - 1.0 x\\right) \\left(0.333333333333333 x - 0.333333333333333\\right), \\  \\left(6.0 - 1.0 x\\right) \\left(0.25 x - 0.25\\right) \\left(1.0 x - 4.0\\right), \\  \\left(0.2 x - 0.2\\right) \\left(0.5 x - 2.0\\right) \\left(1.0 x - 5.0\\right)\\right]$"
      ],
      "text/plain": [
       "[(1.2 - 0.2⋅x)⋅(1.25 - 0.25⋅x)⋅(1.33333333333333 - 0.333333333333333⋅x), (3.0 \n",
       "- 0.5⋅x)⋅(5.0 - 1.0⋅x)⋅(0.333333333333333⋅x - 0.333333333333333), (6.0 - 1.0⋅x\n",
       ")⋅(0.25⋅x - 0.25)⋅(1.0⋅x - 4.0), (0.2⋅x - 0.2)⋅(0.5⋅x - 2.0)⋅(1.0⋅x - 5.0)]"
      ]
     },
     "execution_count": 21,
     "metadata": {},
     "output_type": "execute_result"
    }
   ],
   "source": [
    "n=len(x_v)\n",
    "L=[1 for i in range(n)]\n",
    "for j in range(n):\n",
    "    for i in range(n):\n",
    "        if i == j:\n",
    "            continue\n",
    "        L[j]*=((x-x_n[i])/(x_n[j]-x_n[i]))\n",
    "L"
   ]
  },
  {
   "cell_type": "code",
   "execution_count": 22,
   "metadata": {},
   "outputs": [
    {
     "name": "stdout",
     "output_type": "stream",
     "text": [
      "(1.2 - 0.2*x)*(1.25 - 0.25*x)*(1.33333333333333 - 0.333333333333333*x)\n",
      "(3.0 - 0.5*x)*(5.0 - 1.0*x)*(0.333333333333333*x - 0.333333333333333)\n",
      "(6.0 - 1.0*x)*(0.25*x - 0.25)*(1.0*x - 4.0)\n",
      "(0.2*x - 0.2)*(0.5*x - 2.0)*(1.0*x - 5.0)\n"
     ]
    }
   ],
   "source": [
    "for i in L:\n",
    "    print(i)"
   ]
  },
  {
   "cell_type": "code",
   "execution_count": 23,
   "metadata": {
    "slideshow": {
     "slide_type": "subslide"
    }
   },
   "outputs": [
    {
     "data": {
      "image/png": "[encoded data removed]",
      "text/latex": [
       "$\\displaystyle 1.386294 \\left(3.0 - 0.5 x\\right) \\left(5.0 - 1.0 x\\right) \\left(0.333333333333333 x - 0.333333333333333\\right) + 1.609438 \\left(6.0 - 1.0 x\\right) \\left(0.25 x - 0.25\\right) \\left(1.0 x - 4.0\\right) + 1.791759 \\left(0.2 x - 0.2\\right) \\left(0.5 x - 2.0\\right) \\left(1.0 x - 5.0\\right)$"
      ],
      "text/plain": [
       "1.386294⋅(3.0 - 0.5⋅x)⋅(5.0 - 1.0⋅x)⋅(0.333333333333333⋅x - 0.333333333333333)\n",
       " + 1.609438⋅(6.0 - 1.0⋅x)⋅(0.25⋅x - 0.25)⋅(1.0⋅x - 4.0) + 1.791759⋅(0.2⋅x - 0.\n",
       "2)⋅(0.5⋅x - 2.0)⋅(1.0⋅x - 5.0)"
      ]
     },
     "execution_count": 23,
     "metadata": {},
     "output_type": "execute_result"
    }
   ],
   "source": [
    "px=L[0]*y[0]\n",
    "for i in range(1,4):\n",
    "    px+=L[i]*y[i]\n",
    "px"
   ]
  },
  {
   "cell_type": "code",
   "execution_count": 24,
   "metadata": {
    "slideshow": {
     "slide_type": "fragment"
    }
   },
   "outputs": [
    {
     "data": {
      "image/png": "[encoded data removed]",
      "text/latex": [
       "$\\displaystyle \\operatorname{Poly}{\\left( 0.00786540000000002 x^{3} - 0.1383925 x^{2} + 0.988887099999998 x - 0.85836, x, domain=\\mathbb{R} \\right)}$"
      ],
      "text/plain": [
       "Poly(0.00786540000000002*x**3 - 0.1383925*x**2 + 0.988887099999998*x - 0.85836\n",
       ", x, domain='RR')"
      ]
     },
     "execution_count": 24,
     "metadata": {},
     "output_type": "execute_result"
    }
   ],
   "source": [
    "p=sy.Poly(px);p"
   ]
  },
  {
   "cell_type": "code",
   "execution_count": 25,
   "metadata": {
    "slideshow": {
     "slide_type": "fragment"
    }
   },
   "outputs": [
    {
     "data": {
      "image/png": "[encoded data removed]",
      "text/latex": [
       "$\\displaystyle 0.6287674$"
      ],
      "text/plain": [
       "0.628767400000000"
      ]
     },
     "execution_count": 25,
     "metadata": {},
     "output_type": "execute_result"
    }
   ],
   "source": [
    "px.subs(x,2)"
   ]
  },
  {
   "cell_type": "code",
   "execution_count": 26,
   "metadata": {
    "slideshow": {
     "slide_type": "subslide"
    }
   },
   "outputs": [],
   "source": [
    "f=sy.lambdify(x,px,'numpy')"
   ]
  },
  {
   "cell_type": "code",
   "execution_count": 27,
   "metadata": {
    "slideshow": {
     "slide_type": "fragment"
    }
   },
   "outputs": [
    {
     "data": {
      "image/png": "[encoded data removed]",
      "text/plain": [
       "<Figure size 792x432 with 1 Axes>"
      ]
     },
     "metadata": {
      "needs_background": "light"
     },
     "output_type": "display_data"
    }
   ],
   "source": [
    "x=np.linspace(1,10)\n",
    "fig=plt.figure(figsize=(11,6))\n",
    "plt.grid()\n",
    "plt.plot(x,np.log(x))\n",
    "plt.plot(x,f(x))\n",
    "_=plt.legend(['$ln(x)$','$f(x)$'],loc='best')"
   ]
  }
 ],
 "metadata": {
  "celltoolbar": "Slideshow",
  "kernelspec": {
   "display_name": "Python 3",
   "language": "python",
   "name": "python3"
  },
  "language_info": {
   "codemirror_mode": {
    "name": "ipython",
    "version": 3
   },
   "file_extension": ".py",
   "mimetype": "text/x-python",
   "name": "python",
   "nbconvert_exporter": "python",
   "pygments_lexer": "ipython3",
   "version": "3.7.6"
  },
  "latex_metadata": {
   "author": "Joelder Victor"
  },
  "rise": {
   "enable_chalkboard": true,
   "header": "Joelder Antonino",
   "theme": "sky"
  }
 },
 "nbformat": 4,
 "nbformat_minor": 4
}
