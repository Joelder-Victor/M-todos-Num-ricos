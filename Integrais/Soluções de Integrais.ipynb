{
 "cells": [
  {
   "cell_type": "markdown",
   "metadata": {
    "slideshow": {
     "slide_type": "slide"
    }
   },
   "source": [
    "# Calculando integrais com métodos numéricos"
   ]
  },
  {
   "cell_type": "markdown",
   "metadata": {
    "slideshow": {
     "slide_type": "slide"
    }
   },
   "source": [
    "#### Problema:\n",
    "A velocidade do paraquedista é dada pela seguinte função do tempo:\n",
    "$$\n",
    "v(t)=\\dfrac{gm}{c}(1-e^{-\\left(c/m\\right)t})\n",
    "$$\n",
    "em que $v$ é a velocidade $(m/s)$, $g = 9,8 m/s^{2}$ é a constante gravitacional, $m = 68,1 kg$ é a massa do paraquedista e $c = 12,5 kg/s$ é o coeficiente de arrasto."
   ]
  },
  {
   "cell_type": "markdown",
   "metadata": {
    "slideshow": {
     "slide_type": "subslide"
    }
   },
   "source": [
    "Suponha que quiséssemos saber quanto o paraquedista caiu depois de um certo intervalo de tempo $t$."
   ]
  },
  {
   "cell_type": "markdown",
   "metadata": {
    "slideshow": {
     "slide_type": "subslide"
    }
   },
   "source": [
    "\n",
    "$$ \n",
    "\\begin{equation}\n",
    "    d=\\int_{0}^{t} \\dfrac{gm}{c}(1-e^{-\\left(c/m\\right)t})\n",
    "\\end{equation}\n",
    "$$"
   ]
  },
  {
   "cell_type": "code",
   "execution_count": 1,
   "metadata": {
    "slideshow": {
     "slide_type": "slide"
    }
   },
   "outputs": [],
   "source": [
    "import sympy as sy\n",
    "import numpy as np\n",
    "import pandas as pd\n",
    "import timeit as tm\n",
    "import matplotlib.pyplot as plt\n",
    "sy.init_printing(pretty_print=True)"
   ]
  },
  {
   "cell_type": "code",
   "execution_count": 4,
   "metadata": {
    "slideshow": {
     "slide_type": "subslide"
    }
   },
   "outputs": [
    {
     "data": {
      "image/png": "[encoded data removed]",
      "text/latex": [
       "$\\displaystyle \\frac{g m \\left(1 - e^{- \\frac{c t}{m}}\\right)}{c}$"
      ],
      "text/plain": [
       "    ⎛     -c⋅t ⎞\n",
       "    ⎜     ─────⎟\n",
       "    ⎜       m  ⎟\n",
       "g⋅m⋅⎝1 - ℯ     ⎠\n",
       "────────────────\n",
       "       c        "
      ]
     },
     "execution_count": 4,
     "metadata": {},
     "output_type": "execute_result"
    }
   ],
   "source": [
    "from sympy.abc import g,m,c,t\n",
    "f=((g*m)/c)*(1-sy.exp((-c/m)*t))\n",
    "f"
   ]
  },
  {
   "cell_type": "code",
   "execution_count": 5,
   "metadata": {
    "slideshow": {
     "slide_type": "subslide"
    }
   },
   "outputs": [
    {
     "data": {
      "image/png": "[encoded data removed]",
      "text/latex": [
       "$\\displaystyle 53.3904 - 53.3904 e^{- 0.183553597650514 t}$"
      ],
      "text/plain": [
       "                   -0.183553597650514⋅t\n",
       "53.3904 - 53.3904⋅ℯ                    "
      ]
     },
     "execution_count": 5,
     "metadata": {},
     "output_type": "execute_result"
    }
   ],
   "source": [
    "f=f.subs([(g,9.8),(m,68.1),(c,12.5)])\n",
    "f"
   ]
  },
  {
   "cell_type": "code",
   "execution_count": 6,
   "metadata": {
    "slideshow": {
     "slide_type": "subslide"
    }
   },
   "outputs": [],
   "source": [
    "v=sy.lambdify(t,f,'numpy')"
   ]
  },
  {
   "cell_type": "code",
   "execution_count": 5,
   "metadata": {
    "slideshow": {
     "slide_type": "subslide"
    }
   },
   "outputs": [
    {
     "data": {
      "image/png": "[encoded data removed]",
      "text/plain": [
       "<Figure size 792x504 with 1 Axes>"
      ]
     },
     "metadata": {
      "needs_background": "light"
     },
     "output_type": "display_data"
    }
   ],
   "source": [
    "t=np.linspace(0,15,200)\n",
    "fig=plt.figure(figsize=(11,7))\n",
    "plt.grid()\n",
    "_=plt.plot(t,v(t))"
   ]
  },
  {
   "cell_type": "code",
   "execution_count": 6,
   "metadata": {
    "slideshow": {
     "slide_type": "subslide"
    }
   },
   "outputs": [
    {
     "data": {
      "image/png": "[encoded data removed]",
      "text/latex": [
       "$\\displaystyle 289.435146511294$"
      ],
      "text/plain": [
       "289.435146511294"
      ]
     },
     "execution_count": 6,
     "metadata": {},
     "output_type": "execute_result"
    }
   ],
   "source": [
    "t=sy.Symbol('t')\n",
    "anl=float(sy.integrate(f,(t,0,10)))\n",
    "anl"
   ]
  },
  {
   "cell_type": "markdown",
   "metadata": {
    "slideshow": {
     "slide_type": "slide"
    }
   },
   "source": [
    "#### Regra do Trapézio Simples"
   ]
  },
  {
   "cell_type": "markdown",
   "metadata": {
    "slideshow": {
     "slide_type": "fragment"
    }
   },
   "source": [
    "$$\n",
    "\\begin{equation}\n",
    "    \\int_{a}^{b} f(x)dx \\approx \\dfrac{h}{2}(f(a)+f(b))\n",
    "\\end{equation}\n",
    "$$"
   ]
  },
  {
   "cell_type": "code",
   "execution_count": 7,
   "metadata": {
    "slideshow": {
     "slide_type": "fragment"
    }
   },
   "outputs": [],
   "source": [
    "def trapezio_simples(a,b,f):\n",
    "    h = b-a\n",
    "    return (h/2)*(f(a)+f(b))"
   ]
  },
  {
   "cell_type": "code",
   "execution_count": 8,
   "metadata": {
    "slideshow": {
     "slide_type": "slide"
    }
   },
   "outputs": [
    {
     "data": {
      "text/html": [
       "<div>\n",
       "<style scoped>\n",
       "    .dataframe tbody tr th:only-of-type {\n",
       "        vertical-align: middle;\n",
       "    }\n",
       "\n",
       "    .dataframe tbody tr th {\n",
       "        vertical-align: top;\n",
       "    }\n",
       "\n",
       "    .dataframe thead th {\n",
       "        text-align: right;\n",
       "    }\n",
       "</style>\n",
       "<table border=\"1\" class=\"dataframe\">\n",
       "  <thead>\n",
       "    <tr style=\"text-align: right;\">\n",
       "      <th></th>\n",
       "      <th>Solução</th>\n",
       "      <th>Tempo</th>\n",
       "      <th>Erro</th>\n",
       "    </tr>\n",
       "  </thead>\n",
       "  <tbody>\n",
       "    <tr>\n",
       "      <th>0</th>\n",
       "      <td>224.365688</td>\n",
       "      <td>0.000229</td>\n",
       "      <td>65.069459</td>\n",
       "    </tr>\n",
       "  </tbody>\n",
       "</table>\n",
       "</div>"
      ],
      "text/plain": [
       "      Solução     Tempo       Erro\n",
       "0  224.365688  0.000229  65.069459"
      ]
     },
     "execution_count": 8,
     "metadata": {},
     "output_type": "execute_result"
    }
   ],
   "source": [
    "inicio = tm.default_timer()\n",
    "sol_t_s=trapezio_simples(0,10,v)\n",
    "fim =  tm.default_timer()\n",
    "tabela={'Solução':[sol_t_s],'Tempo':[fim-inicio],\n",
    "        'Erro':[abs(anl-sol_t_s)]}\n",
    "pd.DataFrame(tabela)"
   ]
  },
  {
   "cell_type": "markdown",
   "metadata": {
    "slideshow": {
     "slide_type": "slide"
    }
   },
   "source": [
    "#### Regra de Simpson Simples"
   ]
  },
  {
   "cell_type": "markdown",
   "metadata": {
    "slideshow": {
     "slide_type": "fragment"
    }
   },
   "source": [
    "\n",
    "$$\n",
    "\\begin{equation}\n",
    "    \\int_{a}^{b} f(x)dx \\approx \\dfrac{h}{3}(f(a)+4f\\left(\\dfrac{a+b}{2}\\right)+f(b))\n",
    "\\end{equation}\n",
    "$$"
   ]
  },
  {
   "cell_type": "code",
   "execution_count": 9,
   "metadata": {
    "slideshow": {
     "slide_type": "fragment"
    }
   },
   "outputs": [],
   "source": [
    "def simpson_simples(a,b,f):\n",
    "    h = (b-a)/2\n",
    "    return(h/3)*(f(a)+(4*(f((a+b)/2)))+f(b))"
   ]
  },
  {
   "cell_type": "code",
   "execution_count": 10,
   "metadata": {
    "slideshow": {
     "slide_type": "slide"
    }
   },
   "outputs": [
    {
     "data": {
      "text/html": [
       "<div>\n",
       "<style scoped>\n",
       "    .dataframe tbody tr th:only-of-type {\n",
       "        vertical-align: middle;\n",
       "    }\n",
       "\n",
       "    .dataframe tbody tr th {\n",
       "        vertical-align: top;\n",
       "    }\n",
       "\n",
       "    .dataframe thead th {\n",
       "        text-align: right;\n",
       "    }\n",
       "</style>\n",
       "<table border=\"1\" class=\"dataframe\">\n",
       "  <thead>\n",
       "    <tr style=\"text-align: right;\">\n",
       "      <th></th>\n",
       "      <th>Solução</th>\n",
       "      <th>Tempo</th>\n",
       "      <th>Erro</th>\n",
       "    </tr>\n",
       "  </thead>\n",
       "  <tbody>\n",
       "    <tr>\n",
       "      <th>0</th>\n",
       "      <td>288.560331</td>\n",
       "      <td>0.00012</td>\n",
       "      <td>0.874816</td>\n",
       "    </tr>\n",
       "  </tbody>\n",
       "</table>\n",
       "</div>"
      ],
      "text/plain": [
       "      Solução    Tempo      Erro\n",
       "0  288.560331  0.00012  0.874816"
      ]
     },
     "execution_count": 10,
     "metadata": {},
     "output_type": "execute_result"
    }
   ],
   "source": [
    "inicio = tm.default_timer()\n",
    "sol_s_s=simpson_simples(0,10,v)\n",
    "fim =  tm.default_timer()\n",
    "tabela={'Solução':[sol_s_s],'Tempo':[fim-inicio],\n",
    "        'Erro':[abs(anl-sol_s_s)]}\n",
    "pd.DataFrame(tabela)"
   ]
  },
  {
   "cell_type": "code",
   "execution_count": 15,
   "metadata": {
    "slideshow": {
     "slide_type": "slide"
    }
   },
   "outputs": [
    {
     "data": {
      "text/plain": [
       "array([0.1, 0.2, 0.3, 0.4, 0.5, 0.6, 0.7, 0.8, 0.9, 1. ])"
      ]
     },
     "execution_count": 15,
     "metadata": {},
     "output_type": "execute_result"
    }
   ],
   "source": [
    "u=np.linspace(0,1,11)\n",
    "u[1:]"
   ]
  },
  {
   "cell_type": "markdown",
   "metadata": {
    "slideshow": {
     "slide_type": "slide"
    }
   },
   "source": [
    "#### Regra de Trapézio Composto"
   ]
  },
  {
   "cell_type": "markdown",
   "metadata": {
    "slideshow": {
     "slide_type": "fragment"
    }
   },
   "source": [
    "$$\n",
    "\\begin{equation}\n",
    "    \\int_{a}^{b} f(x)dx \\approx \\dfrac{h}{2}(y_0+2y_1+...+2y_{n-1}+y_n)\n",
    "\\end{equation}\n",
    "$$"
   ]
  },
  {
   "cell_type": "code",
   "execution_count": 14,
   "metadata": {
    "slideshow": {
     "slide_type": "fragment"
    }
   },
   "outputs": [],
   "source": [
    "def trapezio_composto(a,b,n,f):\n",
    "    h = (b-a)/n\n",
    "    x=np.linspace(start=a,stop=b,num=n+1)\n",
    "    fx=np.zeros((n+1))\n",
    "    fx[0]=h*(f(x[0])+f(x[n]))/2\n",
    "    fx[1:n]=h*(f(x[1:n]))\n",
    "    print(fx)\n",
    "    return np.sum(fx)"
   ]
  },
  {
   "cell_type": "code",
   "execution_count": 8,
   "metadata": {},
   "outputs": [
    {
     "data": {
      "text/plain": [
       "array([ 0.,  1.,  2.,  3.,  4.,  5.,  6.,  7.,  8.,  9., 10.])"
      ]
     },
     "execution_count": 8,
     "metadata": {},
     "output_type": "execute_result"
    }
   ],
   "source": [
    "x=np.linspace(0,10,11);x\n"
   ]
  },
  {
   "cell_type": "code",
   "execution_count": 15,
   "metadata": {},
   "outputs": [
    {
     "name": "stdout",
     "output_type": "stream",
     "text": [
      "[22.43656879  8.95318221 16.4049808  22.60716691 27.76929146 32.06576523\n",
      " 35.64175156 38.61807097 41.09528323 43.15708499  0.        ]\n"
     ]
    },
    {
     "data": {
      "image/png": "[encoded data removed]",
      "text/latex": [
       "$\\displaystyle 288.74914614322984$"
      ],
      "text/plain": [
       "288.74914614322984"
      ]
     },
     "execution_count": 15,
     "metadata": {},
     "output_type": "execute_result"
    }
   ],
   "source": [
    "trapezio_composto(0,10,10,v)\n"
   ]
  },
  {
   "cell_type": "code",
   "execution_count": 17,
   "metadata": {
    "slideshow": {
     "slide_type": "slide"
    }
   },
   "outputs": [],
   "source": [
    "n=[10,20,50,200,500,1000,2000,5000,10000]\n",
    "sol_t_c,tempo_t,erro_t=[],[],[]\n",
    "for i in n:\n",
    "    inicio = tm.default_timer()\n",
    "    sol_t_c.append(trapezio_composto(0,10,i,v))\n",
    "    fim =  tm.default_timer()\n",
    "    tempo_t.append((fim-inicio))\n",
    "    erro_t.append(abs(anl-sol_t_c[len(sol_t_c)-1]))"
   ]
  },
  {
   "cell_type": "markdown",
   "metadata": {
    "slideshow": {
     "slide_type": "slide"
    }
   },
   "source": [
    "#### Regra de Simpson Composta"
   ]
  },
  {
   "cell_type": "markdown",
   "metadata": {
    "slideshow": {
     "slide_type": "fragment"
    }
   },
   "source": [
    "$$\n",
    "\\begin{equation}\n",
    "    \\dfrac{h}{3}(y_0+4y_1+2y_2...+2y_{n-2}+4y_{n-1}+y_n)\n",
    "\\end{equation}\n",
    "$$"
   ]
  },
  {
   "cell_type": "code",
   "execution_count": 18,
   "metadata": {
    "slideshow": {
     "slide_type": "fragment"
    }
   },
   "outputs": [],
   "source": [
    "def simpson_composto(a,b,n,f):\n",
    "    h=(b-a)/n\n",
    "    x=np.linspace(a,b,n+1)\n",
    "    fx=np.zeros(n+1)\n",
    "    fx[0]=f(x[0])\n",
    "    fx[1::2]=4*f(x[1::2])\n",
    "    fx[2::2]=2*f(x[2::2])\n",
    "    fx[n]=f(x[n])\n",
    "    return (h/3)*np.sum(fx)"
   ]
  },
  {
   "cell_type": "code",
   "execution_count": 19,
   "metadata": {
    "slideshow": {
     "slide_type": "subslide"
    }
   },
   "outputs": [],
   "source": [
    "sol_s_c,tempo_s,erro_s=[],[],[]\n",
    "for i in n:\n",
    "    inicio = tm.default_timer()\n",
    "    sol_s_c.append(simpson_composto(0,10,i,v))\n",
    "    fim =  tm.default_timer()\n",
    "    tempo_s.append((fim-inicio))\n",
    "    erro_s.append(abs(anl-sol_s_c[len(sol_s_c)-1]))"
   ]
  },
  {
   "cell_type": "code",
   "execution_count": 20,
   "metadata": {
    "slideshow": {
     "slide_type": "subslide"
    }
   },
   "outputs": [
    {
     "data": {
      "text/html": [
       "<div>\n",
       "<style scoped>\n",
       "    .dataframe tbody tr th:only-of-type {\n",
       "        vertical-align: middle;\n",
       "    }\n",
       "\n",
       "    .dataframe tbody tr th {\n",
       "        vertical-align: top;\n",
       "    }\n",
       "\n",
       "    .dataframe thead th {\n",
       "        text-align: right;\n",
       "    }\n",
       "</style>\n",
       "<table border=\"1\" class=\"dataframe\">\n",
       "  <thead>\n",
       "    <tr style=\"text-align: right;\">\n",
       "      <th></th>\n",
       "      <th>n</th>\n",
       "      <th>Solução Trapézio</th>\n",
       "      <th>Tempo 1</th>\n",
       "      <th>Erro 1</th>\n",
       "      <th>Solução Simpson</th>\n",
       "      <th>Tempo 2</th>\n",
       "      <th>Erro 2</th>\n",
       "    </tr>\n",
       "  </thead>\n",
       "  <tbody>\n",
       "    <tr>\n",
       "      <th>0</th>\n",
       "      <td>10</td>\n",
       "      <td>288.749146</td>\n",
       "      <td>0.000344</td>\n",
       "      <td>6.860004e-01</td>\n",
       "      <td>289.433611</td>\n",
       "      <td>0.000383</td>\n",
       "      <td>1.535548e-03</td>\n",
       "    </tr>\n",
       "    <tr>\n",
       "      <th>1</th>\n",
       "      <td>20</td>\n",
       "      <td>289.263574</td>\n",
       "      <td>0.000129</td>\n",
       "      <td>1.715723e-01</td>\n",
       "      <td>289.435050</td>\n",
       "      <td>0.000179</td>\n",
       "      <td>9.626033e-05</td>\n",
       "    </tr>\n",
       "    <tr>\n",
       "      <th>2</th>\n",
       "      <td>50</td>\n",
       "      <td>289.407692</td>\n",
       "      <td>0.000112</td>\n",
       "      <td>2.745480e-02</td>\n",
       "      <td>289.435144</td>\n",
       "      <td>0.000207</td>\n",
       "      <td>2.466340e-06</td>\n",
       "    </tr>\n",
       "    <tr>\n",
       "      <th>3</th>\n",
       "      <td>200</td>\n",
       "      <td>289.433431</td>\n",
       "      <td>0.000107</td>\n",
       "      <td>1.715961e-03</td>\n",
       "      <td>289.435147</td>\n",
       "      <td>0.000795</td>\n",
       "      <td>9.635585e-09</td>\n",
       "    </tr>\n",
       "    <tr>\n",
       "      <th>4</th>\n",
       "      <td>500</td>\n",
       "      <td>289.434872</td>\n",
       "      <td>0.000153</td>\n",
       "      <td>2.745541e-04</td>\n",
       "      <td>289.435147</td>\n",
       "      <td>0.000301</td>\n",
       "      <td>2.465868e-10</td>\n",
       "    </tr>\n",
       "    <tr>\n",
       "      <th>5</th>\n",
       "      <td>1000</td>\n",
       "      <td>289.435078</td>\n",
       "      <td>0.000691</td>\n",
       "      <td>6.863854e-05</td>\n",
       "      <td>289.435147</td>\n",
       "      <td>0.000190</td>\n",
       "      <td>1.540457e-11</td>\n",
       "    </tr>\n",
       "    <tr>\n",
       "      <th>6</th>\n",
       "      <td>2000</td>\n",
       "      <td>289.435129</td>\n",
       "      <td>0.000323</td>\n",
       "      <td>1.715964e-05</td>\n",
       "      <td>289.435147</td>\n",
       "      <td>0.000184</td>\n",
       "      <td>9.663381e-13</td>\n",
       "    </tr>\n",
       "    <tr>\n",
       "      <th>7</th>\n",
       "      <td>5000</td>\n",
       "      <td>289.435144</td>\n",
       "      <td>0.000731</td>\n",
       "      <td>2.745542e-06</td>\n",
       "      <td>289.435147</td>\n",
       "      <td>0.000251</td>\n",
       "      <td>5.684342e-14</td>\n",
       "    </tr>\n",
       "    <tr>\n",
       "      <th>8</th>\n",
       "      <td>10000</td>\n",
       "      <td>289.435146</td>\n",
       "      <td>0.000803</td>\n",
       "      <td>6.863855e-07</td>\n",
       "      <td>289.435147</td>\n",
       "      <td>0.000470</td>\n",
       "      <td>5.684342e-14</td>\n",
       "    </tr>\n",
       "  </tbody>\n",
       "</table>\n",
       "</div>"
      ],
      "text/plain": [
       "       n  Solução Trapézio   Tempo 1        Erro 1  Solução Simpson   Tempo 2  \\\n",
       "0     10        288.749146  0.000344  6.860004e-01       289.433611  0.000383   \n",
       "1     20        289.263574  0.000129  1.715723e-01       289.435050  0.000179   \n",
       "2     50        289.407692  0.000112  2.745480e-02       289.435144  0.000207   \n",
       "3    200        289.433431  0.000107  1.715961e-03       289.435147  0.000795   \n",
       "4    500        289.434872  0.000153  2.745541e-04       289.435147  0.000301   \n",
       "5   1000        289.435078  0.000691  6.863854e-05       289.435147  0.000190   \n",
       "6   2000        289.435129  0.000323  1.715964e-05       289.435147  0.000184   \n",
       "7   5000        289.435144  0.000731  2.745542e-06       289.435147  0.000251   \n",
       "8  10000        289.435146  0.000803  6.863855e-07       289.435147  0.000470   \n",
       "\n",
       "         Erro 2  \n",
       "0  1.535548e-03  \n",
       "1  9.626033e-05  \n",
       "2  2.466340e-06  \n",
       "3  9.635585e-09  \n",
       "4  2.465868e-10  \n",
       "5  1.540457e-11  \n",
       "6  9.663381e-13  \n",
       "7  5.684342e-14  \n",
       "8  5.684342e-14  "
      ]
     },
     "execution_count": 20,
     "metadata": {},
     "output_type": "execute_result"
    }
   ],
   "source": [
    "tabela={'n':n,'Solução Trapézio':sol_t_c,'Tempo 1':tempo_t,\n",
    "        'Erro 1':erro_t,'Solução Simpson':sol_s_c,\n",
    "        'Tempo 2':tempo_s,'Erro 2':erro_s}\n",
    "pd.DataFrame(tabela)"
   ]
  },
  {
   "cell_type": "markdown",
   "metadata": {
    "slideshow": {
     "slide_type": "slide"
    }
   },
   "source": [
    "#### Referências:\n",
    " - [Métodos Numéricos para Engenharia 7.ed.](https://www.amazon.com.br/M%C3%A9todos-Num%C3%A9ricos-Engenharia-Steven-Chapra-ebook/dp/B01FWPMPPA)"
   ]
  },
  {
   "cell_type": "code",
   "execution_count": null,
   "metadata": {},
   "outputs": [],
   "source": []
  }
 ],
 "metadata": {
  "celltoolbar": "Slideshow",
  "kernelspec": {
   "display_name": "Python 3",
   "language": "python",
   "name": "python3"
  },
  "language_info": {
   "codemirror_mode": {
    "name": "ipython",
    "version": 3
   },
   "file_extension": ".py",
   "mimetype": "text/x-python",
   "name": "python",
   "nbconvert_exporter": "python",
   "pygments_lexer": "ipython3",
   "version": "3.7.6"
  },
  "latex_metadata": {
   "author": "Joelder Victor"
  },
  "rise": {
   "enable_chalkboard": true,
   "header": "Joelder Antonino",
   "theme": "sky"
  }
 },
 "nbformat": 4,
 "nbformat_minor": 4
}
