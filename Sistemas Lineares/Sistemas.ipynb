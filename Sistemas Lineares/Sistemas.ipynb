{
 "cells": [
  {
   "cell_type": "markdown",
   "metadata": {},
   "source": [
    "<h1>Sistemas de Equações Lineares</h1>\n"
   ]
  },
  {
   "cell_type": "markdown",
   "metadata": {},
   "source": [
    "<img src='circuito.png' >\n",
    "          "
   ]
  },
  {
   "cell_type": "markdown",
   "metadata": {},
   "source": [
    "<p> $R_{1}=1k\\Omega, \\space R_{2}=R_{3}=2k\\Omega,\\space R_{4}=4k\\Omega,\\space i_{A}=2mA,\\space i_{B}=4mA$  e $ \\alpha=2 $</p>"
   ]
  },
  {
   "cell_type": "markdown",
   "metadata": {},
   "source": [
    "<h2> Aplicando a Lei de Kirchhof das Correntes</h2>"
   ]
  },
  {
   "cell_type": "markdown",
   "metadata": {},
   "source": [
    "<img src='sistema1.png'>"
   ]
  },
  {
   "cell_type": "markdown",
   "metadata": {},
   "source": [
    "<img src='sistema2.png'>"
   ]
  },
  {
   "cell_type": "markdown",
   "metadata": {},
   "source": [
    "<h4> Ou</h4>"
   ]
  },
  {
   "cell_type": "markdown",
   "metadata": {},
   "source": [
    "<img src='sistema3.png'>"
   ]
  },
  {
   "cell_type": "code",
   "execution_count": 1,
   "metadata": {},
   "outputs": [],
   "source": [
    "import numpy as np\n",
    "import timeit as tm\n",
    "A=np.array([[0.0015,-0.001,0],\n",
    "          [-0.001,2.0015,-2.0005],\n",
    "          [0,-0.0005,0.00075]],dtype='double')\n",
    "b=np.array([[0.002],[-0.002],[0.004]],dtype='double')\n",
    "x0=np.array([[0.],[0],[0]],dtype='double')"
   ]
  },
  {
   "cell_type": "markdown",
   "metadata": {},
   "source": [
    "### Método de Jacobi"
   ]
  },
  {
   "cell_type": "markdown",
   "metadata": {},
   "source": [
    "<img src='jacobi.jpeg'>"
   ]
  },
  {
   "cell_type": "code",
   "execution_count": 10,
   "metadata": {},
   "outputs": [],
   "source": [
    "def jacobi_3(A,b,x0,n,tol):\n",
    "    \n",
    "    x=np.empty((3,1))\n",
    "\n",
    "    for i in range(n):\n",
    "    \n",
    "        x[0,0]=-1/A[0,0]*((A[0,1]*x0[1,0])+(A[0,2]*x0[2,0]))+(1/A[0,0])*b[0,0]\n",
    "        x[1,0]=-1/A[1,1]*((A[1,0]*x0[0,0])+(A[1,2]*x0[2,0]))+(1/A[1,1])*b[1,0]\n",
    "        x[2,0]=-1/A[2,2]*((A[2,0]*x0[0,0])+(A[2,1]*x0[1,0]))+(1/A[2,2])*b[2,0]\n",
    "    \n",
    "        e=np.linalg.norm(x-x0,np.inf)/np.max(np.abs(x))\n",
    "    \n",
    "        if(e < tol):\n",
    "            return x,i,e\n",
    "                                         \n",
    "        x0=np.copy(x)\n",
    "    \n"
   ]
  },
  {
   "cell_type": "code",
   "execution_count": 12,
   "metadata": {},
   "outputs": [
    {
     "name": "stdout",
     "output_type": "stream",
     "text": [
      "Solução:\n",
      " [[11.96965917]\n",
      " [15.95448647]\n",
      " [15.96965917]] \n",
      "Tempo: 0.003451 \n",
      "Erro:0.000762 \n",
      "Iterações: 30\n"
     ]
    }
   ],
   "source": [
    "inicio = tm.default_timer()\n",
    "x,i,e=jacobi_3(A,b,x0,50,0.001)\n",
    "fim =  tm.default_timer()    \n",
    "print('Solução:\\n {0:} \\nTempo: {1:f} \\nErro:{2:f} \\nIterações: {3:d}'.format(x,(fim-inicio),e,i))"
   ]
  },
  {
   "cell_type": "markdown",
   "metadata": {},
   "source": [
    "### Método de Gauss-Seidel"
   ]
  },
  {
   "cell_type": "markdown",
   "metadata": {},
   "source": [
    "<img src='gauss-seidel.png'>"
   ]
  },
  {
   "cell_type": "code",
   "execution_count": 14,
   "metadata": {},
   "outputs": [],
   "source": [
    "def gauss_seidel_3(A,b,x0,n,tol):\n",
    "    x=np.empty((3,1))\n",
    "\n",
    "    for i in range(n):\n",
    "\n",
    "        x[0,0]=-1/A[0,0]*((A[0,1]*x[1,0])+(A[0,2]*x[2,0]))+(1/A[0,0])*b[0,0]\n",
    "        x[1,0]=-1/A[1,1]*((A[1,0]*x[0,0])+(A[1,2]*x[2,0]))+(1/A[1,1])*b[1,0]\n",
    "        x[2,0]=-1/A[2,2]*((A[2,0]*x[0,0])+(A[2,1]*x[1,0]))+(1/A[2,2])*b[2,0]\n",
    "        \n",
    "        e=np.linalg.norm(x-x0,np.inf)/np.max(np.abs(x))\n",
    "        \n",
    "        if (e < tol):\n",
    "            return x,i,e\n",
    "            \n",
    "        x0=np.copy(x)"
   ]
  },
  {
   "cell_type": "code",
   "execution_count": 16,
   "metadata": {},
   "outputs": [],
   "source": [
    "A=np.array([[0.0015,-0.001,0],\n",
    "          [-0.001,2.0015,-2.0005],\n",
    "          [0,-0.0005,0.00075]],dtype='double')\n",
    "b=np.array([[0.002],[-0.002],[0.004]],dtype='double')\n",
    "x0=np.array([[0.],[0],[0]],dtype='double')"
   ]
  },
  {
   "cell_type": "code",
   "execution_count": 17,
   "metadata": {},
   "outputs": [
    {
     "name": "stdout",
     "output_type": "stream",
     "text": [
      "Solução:\n",
      " [[11.96965866]\n",
      " [15.96666091]\n",
      " [15.97777394]] \n",
      "Tempo: 0.002045 \n",
      "Erro:0.000762 \n",
      "Iterações: 16\n"
     ]
    }
   ],
   "source": [
    "inicio = tm.default_timer()\n",
    "x,i,e=gauss_seidel_3(A,b,x0,50,0.001)\n",
    "fim =  tm.default_timer()    \n",
    "print('Solução:\\n {0:} \\nTempo: {1:f} \\nErro:{2:f} \\nIterações: {3:d}'.format(x,(fim-inicio),e,i))"
   ]
  }
 ],
 "metadata": {
  "celltoolbar": "Slideshow",
  "kernelspec": {
   "display_name": "Python 3",
   "language": "python",
   "name": "python3"
  },
  "language_info": {
   "codemirror_mode": {
    "name": "ipython",
    "version": 3
   },
   "file_extension": ".py",
   "mimetype": "text/x-python",
   "name": "python",
   "nbconvert_exporter": "python",
   "pygments_lexer": "ipython3",
   "version": "3.7.6"
  },
  "latex_metadata": {
   "affiliation": " UFPB",
   "author": "Joelder Victor",
   "date": "Setembro de 2020"
  },
  "rise": {
   "enable_chalkboard": true,
   "footer": "UFPB - CI ",
   "header": "Joelder Victor",
   "theme": "sky"
  }
 },
 "nbformat": 4,
 "nbformat_minor": 4
}
